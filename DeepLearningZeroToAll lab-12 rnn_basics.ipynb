{
 "cells": [
  {
   "cell_type": "code",
   "execution_count": 1,
   "metadata": {},
   "outputs": [],
   "source": [
    "import tensorflow as tf\n",
    "import numpy as np\n",
    "from tensorflow.contrib import rnn\n",
    "import pprint\n",
    "pp = pprint.PrettyPrinter(indent=4)\n",
    "sess = tf.InteractiveSession()"
   ]
  },
  {
   "cell_type": "code",
   "execution_count": 2,
   "metadata": {},
   "outputs": [],
   "source": [
    "\n",
    "# One hot encoding for each char in 'hello'\n",
    "h = [1, 0, 0, 0]\n",
    "e = [0, 1, 0, 0]\n",
    "l = [0, 0, 1, 0]\n",
    "o = [0, 0, 0, 1]"
   ]
  },
  {
   "cell_type": "code",
   "execution_count": 3,
   "metadata": {},
   "outputs": [
    {
     "name": "stderr",
     "output_type": "stream",
     "text": [
      "WARNING: Logging before flag parsing goes to stderr.\n",
      "W0922 02:17:07.862104 10828 deprecation.py:506] From W:\\Anaconda3\\lib\\site-packages\\tensorflow\\python\\ops\\init_ops.py:1251: calling VarianceScaling.__init__ (from tensorflow.python.ops.init_ops) with dtype is deprecated and will be removed in a future version.\n",
      "Instructions for updating:\n",
      "Call initializer instance with the dtype argument instead of passing it to the constructor\n",
      "W0922 02:17:07.870098 10828 deprecation.py:323] From <ipython-input-3-9e94a5d57760>:10: dynamic_rnn (from tensorflow.python.ops.rnn) is deprecated and will be removed in a future version.\n",
      "Instructions for updating:\n",
      "Please use `keras.layers.RNN(cell)`, which is equivalent to this API\n"
     ]
    },
    {
     "name": "stdout",
     "output_type": "stream",
     "text": [
      "2 2\n",
      "array([[[1., 0., 0., 0.]]], dtype=float32)\n",
      "array([[[0.54985994, 0.13801265]]], dtype=float32)\n"
     ]
    }
   ],
   "source": [
    "\n",
    "with tf.variable_scope('one_cell') as scope:\n",
    "    # One cell RNN input_dim (4) -> output_dim (2)\n",
    "    hidden_size = 2\n",
    "    cell = tf.keras.layers.SimpleRNNCell(units=hidden_size)\n",
    "    print(cell.output_size, cell.state_size)\n",
    "\n",
    "    x_data = np.array([[h]], dtype=np.float32) # x_data = [[[1,0,0,0]]]\n",
    "    pp.pprint(x_data)\n",
    "    outputs, _states = tf.nn.dynamic_rnn(cell, x_data, dtype=tf.float32)\n",
    "\n",
    "    sess.run(tf.global_variables_initializer())\n",
    "    pp.pprint(outputs.eval())"
   ]
  },
  {
   "cell_type": "code",
   "execution_count": 13,
   "metadata": {},
   "outputs": [
    {
     "name": "stdout",
     "output_type": "stream",
     "text": [
      "(1, 5, 4)\n",
      "array([[[1., 0., 0., 0.],\n",
      "        [0., 1., 0., 0.],\n",
      "        [0., 0., 1., 0.],\n",
      "        [0., 0., 1., 0.],\n",
      "        [0., 0., 0., 1.]]], dtype=float32)\n",
      "random weight\n",
      "array([[[ 0.4780785 , -0.53581154,  0.63159   , -0.20868747],\n",
      "        [-0.37248346,  0.8466291 ,  0.8184807 ,  0.35754973],\n",
      "        [ 0.9223282 ,  0.05269922, -0.6390722 ,  0.5481024 ],\n",
      "        [ 0.43175104, -0.76569724, -0.7997321 ,  0.9640457 ],\n",
      "        [ 0.47709706, -0.6623714 ,  0.3652202 ,  0.86779344]]],\n",
      "      dtype=float32)\n"
     ]
    }
   ],
   "source": [
    "with tf.variable_scope('two_sequances') as scope:\n",
    "    # One cell RNN input_dim (4) -> output_dim (2). sequence: 5\n",
    "    hidden_size = 4\n",
    "    cell = tf.keras.layers.SimpleRNNCell(units=hidden_size)\n",
    "    x_data = np.array([[h, e, l, l, o]], dtype=np.float32)\n",
    "    print(x_data.shape)\n",
    "    pp.pprint(x_data)\n",
    "    outputs, _states = tf.nn.dynamic_rnn(cell, x_data, dtype=tf.float32)\n",
    "    sess.run(tf.global_variables_initializer())\n",
    "    print(\"random weight\")\n",
    "    pp.pprint(outputs.eval())\n",
    "    "
   ]
  },
  {
   "cell_type": "code",
   "execution_count": 5,
   "metadata": {},
   "outputs": [
    {
     "name": "stderr",
     "output_type": "stream",
     "text": [
      "W0922 02:17:11.626789 10828 deprecation.py:323] From <ipython-input-5-71f3444a061b>:10: LSTMCell.__init__ (from tensorflow.python.ops.rnn_cell_impl) is deprecated and will be removed in a future version.\n",
      "Instructions for updating:\n",
      "This class is equivalent as tf.keras.layers.LSTMCell, and will be replaced by that in Tensorflow 2.0.\n",
      "W0922 02:17:11.759706 10828 deprecation.py:506] From W:\\Anaconda3\\lib\\site-packages\\tensorflow\\python\\ops\\rnn_cell_impl.py:961: calling Zeros.__init__ (from tensorflow.python.ops.init_ops) with dtype is deprecated and will be removed in a future version.\n",
      "Instructions for updating:\n",
      "Call initializer instance with the dtype argument instead of passing it to the constructor\n"
     ]
    },
    {
     "name": "stdout",
     "output_type": "stream",
     "text": [
      "array([[[1., 0., 0., 0.],\n",
      "        [0., 1., 0., 0.],\n",
      "        [0., 0., 1., 0.],\n",
      "        [0., 0., 1., 0.],\n",
      "        [0., 0., 0., 1.]],\n",
      "\n",
      "       [[0., 1., 0., 0.],\n",
      "        [0., 0., 0., 1.],\n",
      "        [0., 0., 1., 0.],\n",
      "        [0., 0., 1., 0.],\n",
      "        [0., 0., 1., 0.]],\n",
      "\n",
      "       [[0., 0., 1., 0.],\n",
      "        [0., 0., 1., 0.],\n",
      "        [0., 1., 0., 0.],\n",
      "        [0., 1., 0., 0.],\n",
      "        [0., 0., 1., 0.]]], dtype=float32)\n",
      "array([[[-0.11812446, -0.02722695, -0.12213697,  0.01296182],\n",
      "        [ 0.04207598, -0.08073659, -0.08601348, -0.07155815],\n",
      "        [ 0.05565977, -0.05115978,  0.07826982, -0.06628758],\n",
      "        [ 0.05479522,  0.00615801,  0.15904328, -0.05869433],\n",
      "        [ 0.05035336,  0.00745668,  0.26079223, -0.1269741 ]],\n",
      "\n",
      "       [[ 0.09703065, -0.05189857, -0.01488282, -0.07521112],\n",
      "        [ 0.08147444, -0.04996339,  0.14482333, -0.14507683],\n",
      "        [ 0.05054832,  0.00692039,  0.17292832, -0.10059192],\n",
      "        [ 0.04776085,  0.05284648,  0.21552378, -0.07956108],\n",
      "        [ 0.04479758,  0.08636923,  0.24200271, -0.06418676]],\n",
      "\n",
      "       [[ 0.03448175,  0.03350403,  0.118426  , -0.01827418],\n",
      "        [ 0.04396985,  0.0642179 ,  0.183994  , -0.02602821],\n",
      "        [ 0.11780839, -0.01707364,  0.15408042, -0.08605465],\n",
      "        [ 0.15962212, -0.04807638,  0.08805899, -0.12333217],\n",
      "        [ 0.09407651, -0.00631913,  0.14656366, -0.09668136]]],\n",
      "      dtype=float32)\n"
     ]
    }
   ],
   "source": [
    "with tf.variable_scope('3_batches') as scope:\n",
    "    # One cell RNN input_dim (4) -> output_dim (2). sequence: 5, batch 3\n",
    "    # 3 batches 'hello', 'eolll', 'lleel'\n",
    "    x_data = np.array([[h, e, l, l, o],\n",
    "                       [e, o, l, l, l],\n",
    "                       [l, l, e, e, l]], dtype=np.float32)\n",
    "    pp.pprint(x_data)\n",
    "    \n",
    "    hidden_size = 4\n",
    "    cell = tf.nn.rnn_cell.LSTMCell(num_units=hidden_size, state_is_tuple=True)\n",
    "    outputs, _states = tf.nn.dynamic_rnn(cell, x_data, dtype=tf.float32)\n",
    "    sess.run(tf.global_variables_initializer())\n",
    "    pp.pprint(outputs.eval())"
   ]
  },
  {
   "cell_type": "code",
   "execution_count": 6,
   "metadata": {},
   "outputs": [
    {
     "name": "stderr",
     "output_type": "stream",
     "text": [
      "W0922 02:17:30.750156 10828 deprecation.py:323] From W:\\Anaconda3\\lib\\site-packages\\tensorflow\\python\\ops\\rnn.py:244: add_dispatch_support.<locals>.wrapper (from tensorflow.python.ops.array_ops) is deprecated and will be removed in a future version.\n",
      "Instructions for updating:\n",
      "Use tf.where in 2.0, which has the same broadcast rule as np.where\n"
     ]
    },
    {
     "name": "stdout",
     "output_type": "stream",
     "text": [
      "array([[[1., 0., 0., 0.],\n",
      "        [0., 1., 0., 0.],\n",
      "        [0., 0., 1., 0.],\n",
      "        [0., 0., 1., 0.],\n",
      "        [0., 0., 0., 1.]],\n",
      "\n",
      "       [[0., 1., 0., 0.],\n",
      "        [0., 0., 0., 1.],\n",
      "        [0., 0., 1., 0.],\n",
      "        [0., 0., 1., 0.],\n",
      "        [0., 0., 1., 0.]],\n",
      "\n",
      "       [[0., 0., 1., 0.],\n",
      "        [0., 0., 1., 0.],\n",
      "        [0., 1., 0., 0.],\n",
      "        [0., 1., 0., 0.],\n",
      "        [0., 0., 1., 0.]]], dtype=float32)\n",
      "array([[[ 0.02620494,  0.10164541,  0.02815075,  0.04961136],\n",
      "        [-0.07109021,  0.17554677,  0.12538923,  0.10818171],\n",
      "        [-0.12590589,  0.02051727,  0.10917158,  0.20803843],\n",
      "        [-0.15294129, -0.09503551,  0.13059798,  0.25720114],\n",
      "        [-0.11531893, -0.04498752,  0.19436504,  0.04040595]],\n",
      "\n",
      "       [[-0.08544837,  0.12009084,  0.09972579,  0.06048245],\n",
      "        [-0.09176629,  0.15011188,  0.1337932 , -0.07111263],\n",
      "        [-0.16170236, -0.0030831 ,  0.11365655,  0.08169305],\n",
      "        [ 0.        ,  0.        ,  0.        ,  0.        ],\n",
      "        [ 0.        ,  0.        ,  0.        ,  0.        ]],\n",
      "\n",
      "       [[-0.06026964, -0.08760244,  0.01898998,  0.13086973],\n",
      "        [-0.10649011, -0.15798688,  0.0539358 ,  0.2088799 ],\n",
      "        [-0.1439642 , -0.01217776,  0.17081657,  0.17082946],\n",
      "        [-0.18977198,  0.10315944,  0.22500205,  0.16135204],\n",
      "        [ 0.        ,  0.        ,  0.        ,  0.        ]]],\n",
      "      dtype=float32)\n"
     ]
    }
   ],
   "source": [
    "with tf.variable_scope('3_batches_dynamic_length') as scope:\n",
    "    # One cell RNN input_dim (4) -> output_dim (5). sequence: 5, batch 3\n",
    "    # 3 batches 'hello', 'eolll', 'lleel'\n",
    "    # more effective way to learn than 'two_sequances'\n",
    "    x_data = np.array([[h, e, l, l, o],\n",
    "                       [e, o, l, l, l],\n",
    "                       [l, l, e, e, l]], dtype=np.float32)\n",
    "    pp.pprint(x_data)\n",
    "    \n",
    "    hidden_size = 4\n",
    "    cell = tf.nn.rnn_cell.LSTMCell(num_units=hidden_size, state_is_tuple=True)\n",
    "    outputs, _states = tf.nn.dynamic_rnn(cell, x_data, sequence_length=[5,3,4], dtype=tf.float32)\n",
    "    sess.run(tf.global_variables_initializer())\n",
    "    pp.pprint(outputs.eval())"
   ]
  },
  {
   "cell_type": "code",
   "execution_count": 7,
   "metadata": {},
   "outputs": [
    {
     "name": "stdout",
     "output_type": "stream",
     "text": [
      "array([[[1., 0., 0., 0.],\n",
      "        [0., 1., 0., 0.],\n",
      "        [0., 0., 1., 0.],\n",
      "        [0., 0., 1., 0.],\n",
      "        [0., 0., 0., 1.]],\n",
      "\n",
      "       [[0., 1., 0., 0.],\n",
      "        [0., 0., 0., 1.],\n",
      "        [0., 0., 1., 0.],\n",
      "        [0., 0., 1., 0.],\n",
      "        [0., 0., 1., 0.]],\n",
      "\n",
      "       [[0., 0., 1., 0.],\n",
      "        [0., 0., 1., 0.],\n",
      "        [0., 1., 0., 0.],\n",
      "        [0., 1., 0., 0.],\n",
      "        [0., 0., 1., 0.]]], dtype=float32)\n",
      "array([[[ 0.10253008, -0.1578676 ,  0.10426318, -0.03880213],\n",
      "        [ 0.0178168 , -0.15115373,  0.21053277, -0.15495834],\n",
      "        [ 0.11915527, -0.11595725,  0.17822985, -0.06189169],\n",
      "        [ 0.17642874, -0.06937148,  0.1705166 , -0.01912814],\n",
      "        [ 0.17781428,  0.00726382,  0.05526971, -0.0089156 ]],\n",
      "\n",
      "       [[-0.04347115, -0.07335197,  0.0812296 , -0.13306615],\n",
      "        [ 0.05810375,  0.00281493, -0.04749247, -0.07705914],\n",
      "        [ 0.14259636,  0.02332217,  0.00903249, -0.02747288],\n",
      "        [ 0.19163826,  0.02843427,  0.04908187,  0.01311253],\n",
      "        [ 0.2216192 ,  0.02572335,  0.07914985,  0.04444937]],\n",
      "\n",
      "       [[ 0.1082131 ,  0.00894565,  0.03568301,  0.03157179],\n",
      "        [ 0.17196025,  0.0110051 ,  0.06595983,  0.05749258],\n",
      "        [ 0.07779688, -0.07432994,  0.15273783, -0.05888605],\n",
      "        [ 0.01870744, -0.1264613 ,  0.22254723, -0.17158873],\n",
      "        [ 0.12211813, -0.095     ,  0.1857823 , -0.07159724]]],\n",
      "      dtype=float32)\n"
     ]
    }
   ],
   "source": [
    "with tf.variable_scope('initial_state') as scope:\n",
    "    batch_size = 3\n",
    "    x_data = np.array([[h, e, l, l, o],\n",
    "                      [e, o, l, l, l],\n",
    "                      [l, l, e, e, l]], dtype=np.float32)\n",
    "    pp.pprint(x_data)\n",
    "    \n",
    "    # One cell RNN input_dim (4) -> output_dim (5). sequence: 5, batch: 3\n",
    "    hidden_size=4\n",
    "    cell = tf.nn.rnn_cell.LSTMCell(num_units=hidden_size, state_is_tuple=True)\n",
    "    initial_state = cell.zero_state(batch_size, tf.float32)\n",
    "    outputs, _states = tf.nn.dynamic_rnn(cell, x_data,\n",
    "                                         initial_state=initial_state, dtype=tf.float32)\n",
    "    sess.run(tf.global_variables_initializer())\n",
    "    pp.pprint(outputs.eval())"
   ]
  },
  {
   "cell_type": "code",
   "execution_count": null,
   "metadata": {},
   "outputs": [],
   "source": []
  }
 ],
 "metadata": {
  "kernelspec": {
   "display_name": "Python 3",
   "language": "python",
   "name": "python3"
  },
  "language_info": {
   "codemirror_mode": {
    "name": "ipython",
    "version": 3
   },
   "file_extension": ".py",
   "mimetype": "text/x-python",
   "name": "python",
   "nbconvert_exporter": "python",
   "pygments_lexer": "ipython3",
   "version": "3.7.3"
  }
 },
 "nbformat": 4,
 "nbformat_minor": 2
}
